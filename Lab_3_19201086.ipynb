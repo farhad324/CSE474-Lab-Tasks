{
  "nbformat": 4,
  "nbformat_minor": 0,
  "metadata": {
    "colab": {
      "name": "Lab 3 - 19201086",
      "provenance": [],
      "collapsed_sections": []
    },
    "kernelspec": {
      "name": "python3",
      "display_name": "Python 3"
    },
    "language_info": {
      "name": "python"
    }
  },
  "cells": [
    {
      "cell_type": "markdown",
      "metadata": {
        "id": "fDLeW0TAwUYd"
      },
      "source": [
        "# Library Download & Installation (Task 1)\n"
      ]
    },
    {
      "cell_type": "code",
      "metadata": {
        "id": "mXuP6ve4fMtF"
      },
      "source": [
        "# install Pint if necessary\n",
        "\n",
        "try:\n",
        "    from pint import UnitRegistry\n",
        "except ImportError:\n",
        "    !pip install pint\n",
        "    \n",
        "# import units\n",
        "from pint import UnitRegistry\n",
        "units = UnitRegistry()"
      ],
      "execution_count": 1,
      "outputs": []
    },
    {
      "cell_type": "code",
      "metadata": {
        "id": "488i9DD9fSao"
      },
      "source": [
        "from os.path import basename, exists\n",
        "\n",
        "def download(url):\n",
        "    filename = basename(url)\n",
        "    if not exists(filename):\n",
        "        from urllib.request import urlretrieve\n",
        "        local, _ = urlretrieve(url, filename)\n",
        "        print('Downloaded ' + local)\n",
        "    \n",
        "download('https://raw.githubusercontent.com/AllenDowney/' +\n",
        "         'ModSimPy/master/modsim.py')"
      ],
      "execution_count": 2,
      "outputs": []
    },
    {
      "cell_type": "markdown",
      "metadata": {
        "id": "-wVNyvFq_y01"
      },
      "source": [
        "# Task 2"
      ]
    },
    {
      "cell_type": "code",
      "metadata": {
        "id": "Anqs2Xt4faiq",
        "colab": {
          "base_uri": "https://localhost:8080/",
          "height": 293
        },
        "outputId": "849e7fef-9995-4728-cadf-d33ad514c8ae"
      },
      "source": [
        "# import functions from modsim\n",
        "\n",
        "from modsim import *\n",
        "\n",
        "mass=float(input('Enter Mass: '))                                                #taking inputs as instructed\n",
        "diameter=float(input(\"Enter Diameter: \"))\n",
        "density=float(input(\"Enter Density: \"))\n",
        "\n",
        "init = State(y=58, v=0)                                                         #height of the spaceshup and initial velocity\n",
        "\n",
        "system = System(init=init, \n",
        "                g=9.8*0.38,                                                     #the average gravitational acceleration is 38% of that of Earth\n",
        "                t_end=10)\n",
        "def slope_func(t, state, system):\n",
        "    y, v = state\n",
        "\n",
        "    dydt = v\n",
        "    dvdt = -system.g\n",
        "    \n",
        "    return dydt, dvdt\n",
        "def event_func(t, state, system):\n",
        "    y, v = state\n",
        "    return y\n",
        "results, details = run_solve_ivp(system, slope_func,events=event_func)\n",
        "print(details.message)\n",
        "dydt, dvdt = slope_func(0, system.init, system)\n",
        "print(dydt, dvdt)\n",
        "results.head()"
      ],
      "execution_count": 3,
      "outputs": [
        {
          "output_type": "stream",
          "name": "stdout",
          "text": [
            "Enter Mass: 1\n",
            "Enter Diameter: 0.2\n",
            "Enter Density: 1.2\n",
            "A termination event occurred.\n",
            "0 -3.724\n"
          ]
        },
        {
          "output_type": "execute_result",
          "data": {
            "text/html": [
              "<div>\n",
              "<style scoped>\n",
              "    .dataframe tbody tr th:only-of-type {\n",
              "        vertical-align: middle;\n",
              "    }\n",
              "\n",
              "    .dataframe tbody tr th {\n",
              "        vertical-align: top;\n",
              "    }\n",
              "\n",
              "    .dataframe thead th {\n",
              "        text-align: right;\n",
              "    }\n",
              "</style>\n",
              "<table border=\"1\" class=\"dataframe\">\n",
              "  <thead>\n",
              "    <tr style=\"text-align: right;\">\n",
              "      <th></th>\n",
              "      <th>y</th>\n",
              "      <th>v</th>\n",
              "    </tr>\n",
              "  </thead>\n",
              "  <tbody>\n",
              "    <tr>\n",
              "      <th>0.000000</th>\n",
              "      <td>58.0000</td>\n",
              "      <td>0.000000</td>\n",
              "    </tr>\n",
              "    <tr>\n",
              "      <th>0.055812</th>\n",
              "      <td>57.9942</td>\n",
              "      <td>-0.207842</td>\n",
              "    </tr>\n",
              "    <tr>\n",
              "      <th>0.111623</th>\n",
              "      <td>57.9768</td>\n",
              "      <td>-0.415684</td>\n",
              "    </tr>\n",
              "    <tr>\n",
              "      <th>0.167435</th>\n",
              "      <td>57.9478</td>\n",
              "      <td>-0.623527</td>\n",
              "    </tr>\n",
              "    <tr>\n",
              "      <th>0.223246</th>\n",
              "      <td>57.9072</td>\n",
              "      <td>-0.831369</td>\n",
              "    </tr>\n",
              "  </tbody>\n",
              "</table>\n",
              "</div>"
            ],
            "text/plain": [
              "                y         v\n",
              "0.000000  58.0000  0.000000\n",
              "0.055812  57.9942 -0.207842\n",
              "0.111623  57.9768 -0.415684\n",
              "0.167435  57.9478 -0.623527\n",
              "0.223246  57.9072 -0.831369"
            ]
          },
          "metadata": {},
          "execution_count": 3
        }
      ]
    },
    {
      "cell_type": "code",
      "metadata": {
        "colab": {
          "base_uri": "https://localhost:8080/",
          "height": 314
        },
        "id": "O15VZXbqhCMZ",
        "outputId": "9bbe31c2-b519-4f42-8f2b-127e4788f32c"
      },
      "source": [
        "def plot_position_0(results):\n",
        "  t_end = results.index[-1]\n",
        "  print('Flight Time:',t_end)\n",
        "  y, v = results.iloc[-1]\n",
        "  results.y.plot()\n",
        "        \n",
        "  decorate(xlabel='Time (s)',\n",
        "  ylabel='Position (m)')\n",
        "    \n",
        "plot_position_0(results)"
      ],
      "execution_count": 4,
      "outputs": [
        {
          "output_type": "stream",
          "name": "stdout",
          "text": [
            "Flight Time: 5.5811559578633485\n"
          ]
        },
        {
          "output_type": "display_data",
          "data": {
            "image/png": "[encoded data removed]",
            "text/plain": [
              "<Figure size 432x288 with 1 Axes>"
            ]
          },
          "metadata": {
            "needs_background": "light"
          }
        }
      ]
    },
    {
      "cell_type": "markdown",
      "metadata": {
        "id": "TPA6oOXxAsiW"
      },
      "source": [
        "# Task 3"
      ]
    },
    {
      "cell_type": "code",
      "metadata": {
        "colab": {
          "base_uri": "https://localhost:8080/"
        },
        "id": "3Zwhez4GA0sO",
        "outputId": "92ab05db-a4ad-4231-d3fd-b5b112daa514"
      },
      "source": [
        "density=float(input(\"Enter Density: \"))                                           \n",
        "enemy_height=3\n",
        "\n",
        "params = Params(\n",
        "    mass = 1,                   # kg                                            #mass does not matter in free falls that's why 1 kg (unless it's significantly massive)\n",
        "    diameter = 0.2,             # m                                             #pennies are all 20 cm in diameter (fixed)\n",
        "    rho = density,              # kg/m**3                                       #no instruction was given for this, therfore user input\n",
        "    g = 9.8*0.38,               # m/s**2                                        #the average gravitational acceleration is 38% of that of Earth\n",
        "    v_init = 0,                 # m / s\n",
        "    v_term = 40,                # m / s                                         #increased terminal velocity (40 m/s)\n",
        "    height = 58-enemy_height,   # m                                             #fall distance = height of spaceship - height of enemy (3 m)\n",
        "    t_end = 30,                 # s\n",
        ")\n",
        "\n",
        "from numpy import pi\n",
        "\n",
        "\n",
        "#this will compute the initial state\n",
        "def make_system(params):\n",
        "    init = State(y=params.height, v=params.v_init)\n",
        "\n",
        "    area = pi * (params.diameter/2)**2\n",
        "\n",
        "    C_d = (2 * params.mass * params.g / \n",
        "           (params.rho * area * params.v_term**2))                              #drag coefficient\n",
        "\n",
        "    return System(init=init,\n",
        "                  area=area,\n",
        "                  C_d=C_d,\n",
        "                  mass=params.mass,\n",
        "                  rho=params.rho,\n",
        "                  g=params.g,\n",
        "                  t_end=params.t_end)\n",
        "    \n",
        "system = make_system(params)\n",
        "\n",
        "print('Drag Coefficient:',system.C_d)\n",
        "\n",
        "#slope function that includes drag\n",
        "def slope_func(t, state, system):\n",
        "    y, v = state\n",
        "    rho, C_d, area = system.rho, system.C_d, system.area\n",
        "    mass, g = system.mass, system.g\n",
        "    \n",
        "    f_drag = rho * v**2 * C_d * area / 2\n",
        "    a_drag = f_drag / mass\n",
        "    \n",
        "    dydt = v\n",
        "    dvdt = -g + a_drag\n",
        "    \n",
        "    return dydt, dvdt\n",
        "\n",
        "slope_func(0, system.init, system)\n",
        "\n",
        "#To stop the simulation when the penny hits\n",
        "def event_func(t, state, system):\n",
        "    y, v = state\n",
        "    return y\n",
        "\n",
        "results, details = run_solve_ivp(system, slope_func,\n",
        "                                 events=event_func)\n",
        "print(details.message)\n",
        "\n",
        "results.tail()\n",
        "\n",
        "t_sidewalk = results.index[-1]\n",
        "print('Flight Time:',t_sidewalk) \n"
      ],
      "execution_count": 5,
      "outputs": [
        {
          "output_type": "stream",
          "name": "stdout",
          "text": [
            "Enter Density: 1.2\n",
            "Drag Coefficient: 0.12347771001546214\n",
            "A termination event occurred.\n",
            "Flight Time: 5.55217658160661\n"
          ]
        }
      ]
    },
    {
      "cell_type": "code",
      "metadata": {
        "colab": {
          "base_uri": "https://localhost:8080/",
          "height": 297
        },
        "id": "OCGSc1zdD26Y",
        "outputId": "373afcb3-7385-4c91-e6b3-00d9bd76efac"
      },
      "source": [
        "def plot_position(results):\n",
        "    results.y.plot()\n",
        "        \n",
        "    decorate(xlabel='Time (s)',\n",
        "         ylabel='Position (m)')\n",
        "    \n",
        "plot_position(results)\n",
        "\n",
        "\n"
      ],
      "execution_count": 6,
      "outputs": [
        {
          "output_type": "display_data",
          "data": {
            "image/png": "[encoded data removed]",
            "text/plain": [
              "<Figure size 432x288 with 1 Axes>"
            ]
          },
          "metadata": {
            "needs_background": "light"
          }
        }
      ]
    },
    {
      "cell_type": "code",
      "metadata": {
        "colab": {
          "base_uri": "https://localhost:8080/",
          "height": 297
        },
        "id": "a6BxJdFLEAXE",
        "outputId": "b83bb4ef-9685-4221-d798-1edd45df8f9d"
      },
      "source": [
        "def plot_velocity(results):\n",
        "\n",
        "    results.v.plot(color='C1', label='v')\n",
        "        \n",
        "    decorate(xlabel='Time (s)',\n",
        "             ylabel='Velocity (m/s)')\n",
        "    \n",
        "plot_velocity(results)"
      ],
      "execution_count": 7,
      "outputs": [
        {
          "output_type": "display_data",
          "data": {
            "image/png": "[encoded data removed]",
            "text/plain": [
              "<Figure size 432x288 with 1 Axes>"
            ]
          },
          "metadata": {
            "needs_background": "light"
          }
        }
      ]
    },
    {
      "cell_type": "code",
      "metadata": {
        "colab": {
          "base_uri": "https://localhost:8080/",
          "height": 296
        },
        "id": "T7tymVYK1h6q",
        "outputId": "5dfcbe20-a800-4309-8c69-ef6777d61cf6"
      },
      "source": [
        "various_mass = np.linspace(1, 10, 40)                                           #as it's a huge penny with the diameter 20cm, the value of mass will be large\n",
        "\n",
        "v_hit=results.iloc[-1][1]                                                       #getting the final velocity before hitting\n",
        "print('Final Velocity Before Hitting: ',v_hit)\n",
        "\n",
        "def force_list(mass,v_hit):\n",
        "\n",
        "  E_k= (mass*(v_hit)**2)/2                                                      #kinetic energy, E_k=((m*v)**2)/2\n",
        "  F_i= E_k/0.1                                                                  #Collision duration = 0.1\n",
        "\n",
        "  return F_i\n",
        "\n",
        "forces_list = force_list(various_mass,v_hit)\n",
        "\n",
        "def plot_force_of_impact(x,y):\n",
        "  plt.plot(x,y)\n",
        "  plt.xlabel(\"Mass (kg)\")\n",
        "  plt.ylabel(\"Force of Impact (N)\")\n",
        "  plt.show()\n",
        "  \n",
        "\n",
        "plot_force_of_impact(various_mass,forces_list)"
      ],
      "execution_count": 8,
      "outputs": [
        {
          "output_type": "stream",
          "name": "stdout",
          "text": [
            "Final Velocity Before Hitting:  -19.00831473839419\n"
          ]
        },
        {
          "output_type": "display_data",
          "data": {
            "image/png": "[encoded data removed]",
            "text/plain": [
              "<Figure size 432x288 with 1 Axes>"
            ]
          },
          "metadata": {
            "needs_background": "light"
          }
        }
      ]
    },
    {
      "cell_type": "markdown",
      "metadata": {
        "id": "sxPzlGsHmjmM"
      },
      "source": [
        "# Task 4"
      ]
    },
    {
      "cell_type": "code",
      "metadata": {
        "colab": {
          "base_uri": "https://localhost:8080/",
          "height": 279
        },
        "id": "NnUkvbZe3LJ3",
        "outputId": "37a67b65-44f2-4bf5-da8f-d0684fadf7f5"
      },
      "source": [
        "condition = (forces_list > 10000)                                               #will require 10,000 Newton force to crack enemy's skull, creating a condition to extract only critical forces\n",
        "extracted_forces_list = np.extract(condition, forces_list)                      #extracting critical forces\n",
        "\n",
        "critical_points_length = len(various_mass) - len(extracted_forces_list)         #Getting the length of critical forces list to slice the list of various mass, according to critical forces \n",
        "critical_mass = various_mass[critical_points_length:]                           #Slicing the list\n",
        "\n",
        "def plot_force_of_impact(x,y,x_hit,y_hit):\n",
        "  plt.plot(x,y,'g-',label='All')                                                #all points\n",
        "  plt.plot(x_hit,y_hit,'ro',label='Critical Mass')                              #critical points are plotted with green dots\n",
        "  plt.xlabel(\"Mass (kg)\")\n",
        "  plt.ylabel(\"Force of Impact (N)\")\n",
        "  plt.show()\n",
        "\n",
        "\n",
        "plot_force_of_impact(various_mass,forces_list,critical_mass,extracted_forces_list)"
      ],
      "execution_count": 9,
      "outputs": [
        {
          "output_type": "display_data",
          "data": {
            "image/png": "[encoded data removed]",
            "text/plain": [
              "<Figure size 432x288 with 1 Axes>"
            ]
          },
          "metadata": {
            "needs_background": "light"
          }
        }
      ]
    }
  ]
}